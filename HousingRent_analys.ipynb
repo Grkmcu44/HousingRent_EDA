{
 "cells": [
  {
   "cell_type": "code",
   "execution_count": null,
   "id": "83cb6b44",
   "metadata": {},
   "outputs": [],
   "source": [
    "\n",
    "#Used for storing and playing with data using DataFrame.\n",
    "import pandas as pd\n",
    "#Used for working with arrays in python.\n",
    "import numpy as np\n",
    "#Used for plotting graphs from data.\n",
    "import matplotlib.pyplot as plt\n",
    "import seaborn as sns\n",
    "import plotly.graph_objs as go\n",
    "#Distrubation test\n",
    "import scipy\n",
    "from scipy.stats import skew, kurtosis, shapiro, jarque_bera\n",
    "\n",
    "# Read csv data\n",
    "data = pd.read_csv('RIA02.20230502T160508.csv')\n",
    "\n",
    "\n"
   ]
  },
  {
   "cell_type": "markdown",
   "id": "e1f59d10",
   "metadata": {},
   "source": [
    "### Number of Bedrooms\n",
    "One bed :1\n",
    "Two bed : 2\n",
    "Three bed : 3\n",
    "Four plus bed: 4 \n",
    "\n",
    "### Property Type\n",
    "Other flats: 1\n",
    "Apartment: 2\n",
    "Terrace house : 3\n",
    "Semi detached house: 4\n",
    "Detached house : 5"
   ]
  },
  {
   "cell_type": "code",
   "execution_count": null,
   "id": "4429cc5e",
   "metadata": {},
   "outputs": [],
   "source": [
    "#DAta Overview\n",
    "data.head(10)"
   ]
  },
  {
   "cell_type": "code",
   "execution_count": null,
   "id": "b6a31fee",
   "metadata": {},
   "outputs": [],
   "source": [
    "data.columns"
   ]
  },
  {
   "cell_type": "code",
   "execution_count": null,
   "id": "52c67fc5",
   "metadata": {},
   "outputs": [],
   "source": [
    "# Detect null observation number and data type\n",
    "data.info()"
   ]
  },
  {
   "cell_type": "code",
   "execution_count": null,
   "id": "130211fe",
   "metadata": {},
   "outputs": [],
   "source": [
    "#Overview for Numeric Variables \n",
    "# The data between 2008 to 2021 \n",
    "data.describe().T"
   ]
  },
  {
   "cell_type": "markdown",
   "id": "c07a7a2f",
   "metadata": {},
   "source": [
    "## Data Cleaning "
   ]
  },
  {
   "cell_type": "code",
   "execution_count": null,
   "id": "cef37aff",
   "metadata": {},
   "outputs": [],
   "source": [
    "# Drop rows which doesnt have rent price information\n",
    "data.dropna(subset=[\"VALUE\"],inplace=True)"
   ]
  },
  {
   "cell_type": "code",
   "execution_count": null,
   "id": "aa3b966b",
   "metadata": {},
   "outputs": [],
   "source": [
    "#Drop first and fifth row\n",
    "data=data.iloc[:,[1,2,3,4,6]]"
   ]
  },
  {
   "cell_type": "code",
   "execution_count": null,
   "id": "bb7b1bfb",
   "metadata": {},
   "outputs": [],
   "source": [
    "#To checj the code\n",
    "data.head()"
   ]
  },
  {
   "cell_type": "code",
   "execution_count": null,
   "id": "45464f33",
   "metadata": {},
   "outputs": [],
   "source": [
    "#Cleaning unneccesary rows because We analize the houses by feature \n",
    "data=data.loc[ (data[\"Number of Bedrooms\"].isin([\"One bed\",\"Two bed\",\"Three bed\",\"Four plus bed\"]))\n",
    "              & (data[\"Property Type\"] != \"All property types\")]\n",
    "\n"
   ]
  },
  {
   "cell_type": "code",
   "execution_count": null,
   "id": "a2dd6213",
   "metadata": {},
   "outputs": [],
   "source": [
    "#To get information just about Dublin\n",
    "dub_data=data[data[\"Location\"].str.contains(\"Dublin\")]"
   ]
  },
  {
   "cell_type": "code",
   "execution_count": null,
   "id": "41af672b",
   "metadata": {},
   "outputs": [],
   "source": [
    "locations = sorted(dub_data['Location'].unique())\n",
    "locations"
   ]
  },
  {
   "cell_type": "code",
   "execution_count": null,
   "id": "a89ea7af",
   "metadata": {},
   "outputs": [],
   "source": [
    "# this analays based on Dublin areas ( Dublin 22 has any unique information so Dublin 22 Clondalkin is used for Dublin 22 area. \n",
    "#Dublin 22 consist of Clondalkin, Liffey Valley, Newcastle and Neilstown)"
   ]
  },
  {
   "cell_type": "code",
   "execution_count": null,
   "id": "6b738847",
   "metadata": {},
   "outputs": [],
   "source": [
    "dub_data=dub_data.loc[dub_data[\"Location\"].isin([\"Dublin 1\",\"Dublin 2\",\"Dublin 3\",\"Dublin 4\",\n",
    "                           \"Dublin 5\",\"Dublin 6\",\"Dublin 6W\",\"Dublin 7\",\"Dublin 8\",\n",
    "                           \"Dublin 9\",\"Dublin 10\",\"Dublin 11\",\"Dublin 12\",\n",
    "                           \"Dublin 13\",\"Dublin 14\",\"Dublin 15\",\"Dublin 16\"\n",
    "                           ,\"Dublin 17\",\"Dublin 18\",\"Dublin 20\",\"Dublin 22\",\"Dublin 24\",\"Dun Laoghaire, Dublin\"\n",
    "                          ,\"Blackrock, Dublin\",\"Swords, Dublin\",\"Malahide, Dublin\",\"Balbriggan, Dublin\",\"Clondalkin, Dublin 22\"])]"
   ]
  },
  {
   "cell_type": "code",
   "execution_count": null,
   "id": "29dfc03b",
   "metadata": {},
   "outputs": [],
   "source": [
    "dub_data=dub_data.reset_index(drop=True)"
   ]
  },
  {
   "cell_type": "code",
   "execution_count": null,
   "id": "1720804d",
   "metadata": {},
   "outputs": [],
   "source": [
    "# To learn any null values and 3324 rows\n",
    "dub_data.info()"
   ]
  },
  {
   "cell_type": "code",
   "execution_count": null,
   "id": "610b95f7",
   "metadata": {},
   "outputs": [],
   "source": [
    "#To know how many unique values has each collumns\n",
    "for collumnss in [\"Year\",\"Number of Bedrooms\",\"Property Type\"]:\n",
    "    print(collumnss)\n",
    "    print(dub_data[collumnss].value_counts())"
   ]
  },
  {
   "cell_type": "code",
   "execution_count": null,
   "id": "23241018",
   "metadata": {},
   "outputs": [],
   "source": [
    "#To detect any duplicated rows\n",
    "duplicate=dub_data.duplicated()\n",
    "print(\"Count of Dublicated rows :\" ,duplicate.sum())\n"
   ]
  },
  {
   "cell_type": "code",
   "execution_count": null,
   "id": "8197f5ee",
   "metadata": {},
   "outputs": [],
   "source": [
    "#to detecet outliers"
   ]
  },
  {
   "cell_type": "code",
   "execution_count": null,
   "id": "13b59aa6",
   "metadata": {},
   "outputs": [],
   "source": [
    "sns.boxplot(x=dub_data[\"VALUE\"])\n",
    "\n"
   ]
  },
  {
   "cell_type": "code",
   "execution_count": null,
   "id": "910e5925",
   "metadata": {},
   "outputs": [],
   "source": [
    "dub_data.boxplot(column=\"VALUE\",by=\"Year\")"
   ]
  },
  {
   "cell_type": "code",
   "execution_count": null,
   "id": "2500c54e",
   "metadata": {},
   "outputs": [],
   "source": [
    "#Outliers\n",
    "# 1st quartile\n",
    "q1 = np.percentile(dub_data[\"VALUE\"],25)\n",
    "# 3rd quartile\n",
    "q3 = np.percentile(dub_data[\"VALUE\"],75)\n",
    "  # IQR\n",
    "IQR = q3 - q1\n",
    "# Outlier step\n",
    "outlier_step = IQR * 1.5\n",
    "# detect outlier and\n",
    "    # store \n",
    "outliers = dub_data[(dub_data[\"VALUE\"] < q1 - outlier_step) | (dub_data[\"VALUE\"] > q3 + outlier_step)]\n",
    "print(outliers.head(20))"
   ]
  },
  {
   "cell_type": "code",
   "execution_count": null,
   "id": "0178d306",
   "metadata": {},
   "outputs": [],
   "source": [
    "#Distrubution of outliers\n",
    "outliers[\"Location\"].value_counts().head(50)"
   ]
  },
  {
   "cell_type": "code",
   "execution_count": null,
   "id": "75d578ca",
   "metadata": {},
   "outputs": [],
   "source": [
    "for n in var :\n",
    "    plot_hist(n)"
   ]
  },
  {
   "cell_type": "code",
   "execution_count": null,
   "id": "255e8296",
   "metadata": {},
   "outputs": [],
   "source": [
    "#127 rows\n",
    "outliers.info()"
   ]
  },
  {
   "cell_type": "code",
   "execution_count": null,
   "id": "cb890bac",
   "metadata": {},
   "outputs": [],
   "source": [
    "#outliar percantege ( outliers/full data) %3 \n",
    "print(127/3324)"
   ]
  },
  {
   "cell_type": "code",
   "execution_count": null,
   "id": "d585f726",
   "metadata": {},
   "outputs": [],
   "source": [
    "#percentage of outliers by Number of Bedrooms\n",
    "x=dub_data[\"Number of Bedrooms\"].value_counts()\n",
    "y=outliers[\"Number of Bedrooms\"].value_counts()\n",
    "percentage=y/x\n",
    "percentage.sort_values(ascending=False)"
   ]
  },
  {
   "cell_type": "code",
   "execution_count": null,
   "id": "aebfad37",
   "metadata": {},
   "outputs": [],
   "source": [
    "#percentage of outliers by location\n",
    "x=dub_data[\"Location\"].value_counts()\n",
    "y=outliers[\"Location\"].value_counts()\n",
    "percentage=y/x\n",
    "percentage.sort_values(ascending=False)"
   ]
  },
  {
   "cell_type": "code",
   "execution_count": null,
   "id": "d41e946a",
   "metadata": {},
   "outputs": [],
   "source": [
    "##percentage of outliers by Property Type\n",
    "x=dub_data[\"Property Type\"].value_counts()\n",
    "y=outliers[\"Property Type\"].value_counts()\n",
    "percentage=y/x\n",
    "percentage.sort_values(ascending=False)"
   ]
  },
  {
   "cell_type": "code",
   "execution_count": null,
   "id": "535e818f",
   "metadata": {},
   "outputs": [],
   "source": [
    "##percentage of outliers by Year\n",
    "x=dub_data[\"Year\"].value_counts()\n",
    "y=outliers[\"Year\"].value_counts()\n",
    "percentage=y/x\n",
    "percentage.sort_values(ascending=False)"
   ]
  },
  {
   "cell_type": "code",
   "execution_count": null,
   "id": "96adffab",
   "metadata": {},
   "outputs": [],
   "source": []
  }
 ],
 "metadata": {
  "kernelspec": {
   "display_name": "Python 3 (ipykernel)",
   "language": "python",
   "name": "python3"
  },
  "language_info": {
   "codemirror_mode": {
    "name": "ipython",
    "version": 3
   },
   "file_extension": ".py",
   "mimetype": "text/x-python",
   "name": "python",
   "nbconvert_exporter": "python",
   "pygments_lexer": "ipython3",
   "version": "3.9.13"
  }
 },
 "nbformat": 4,
 "nbformat_minor": 5
}
